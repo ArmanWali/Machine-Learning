{
 "cells": [
  {
   "cell_type": "code",
   "execution_count": 3,
   "id": "2ba19008",
   "metadata": {},
   "outputs": [],
   "source": [
    "import numpy as np\n",
    "%matplotlib widget\n",
    "import matplotlib.pyplot as plt\n"
   ]
  },
  {
   "cell_type": "code",
   "execution_count": 4,
   "id": "8e1318aa",
   "metadata": {},
   "outputs": [],
   "source": [
    "x_train = np.array([1.0, 2.0])           #(size in 1000 square feet)\n",
    "y_train = np.array([300.0, 500.0])           #(price in 1000s of dollars)"
   ]
  },
  {
   "cell_type": "code",
   "execution_count": 12,
   "id": "e103dc81",
   "metadata": {},
   "outputs": [
    {
     "data": {
      "text/plain": [
       "12500.0"
      ]
     },
     "execution_count": 12,
     "metadata": {},
     "output_type": "execute_result"
    }
   ],
   "source": [
    "# Calculating cost value\n",
    "\n",
    "def compute_cost(x, y, w, b):\n",
    "    cost = 0\n",
    "\n",
    "    m = len(x)\n",
    "    \n",
    "    for i in range(m):\n",
    "        f_wb = w*x[i] + b;\n",
    "        dif = (y[i] - f_wb)**2\n",
    "        cost += dif/(2*m)\n",
    "\n",
    "    return cost\n",
    "\n",
    "\n",
    "compute_cost(x_train, y_train, 100, 100)\n"
   ]
  },
  {
   "cell_type": "markdown",
   "id": "42fb2117",
   "metadata": {},
   "source": []
  }
 ],
 "metadata": {
  "kernelspec": {
   "display_name": "Python 3",
   "language": "python",
   "name": "python3"
  },
  "language_info": {
   "codemirror_mode": {
    "name": "ipython",
    "version": 3
   },
   "file_extension": ".py",
   "mimetype": "text/x-python",
   "name": "python",
   "nbconvert_exporter": "python",
   "pygments_lexer": "ipython3",
   "version": "3.12.3"
  }
 },
 "nbformat": 4,
 "nbformat_minor": 5
}
