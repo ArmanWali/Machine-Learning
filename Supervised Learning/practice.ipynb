{
 "cells": [
  {
   "cell_type": "code",
   "execution_count": 1,
   "id": "2ba19008",
   "metadata": {},
   "outputs": [],
   "source": [
    "import numpy as np\n",
    "%matplotlib widget\n",
    "import matplotlib.pyplot as plt\n"
   ]
  },
  {
   "cell_type": "code",
   "execution_count": 2,
   "id": "8e1318aa",
   "metadata": {},
   "outputs": [],
   "source": [
    "x_train = np.array([1.0, 2.0])           #(size in 1000 square feet)\n",
    "y_train = np.array([300.0, 500.0])           #(price in 1000s of dollars)"
   ]
  },
  {
   "cell_type": "code",
   "execution_count": 3,
   "id": "e103dc81",
   "metadata": {},
   "outputs": [
    {
     "data": {
      "text/plain": [
       "12500.0"
      ]
     },
     "execution_count": 3,
     "metadata": {},
     "output_type": "execute_result"
    }
   ],
   "source": [
    "# Calculating cost value\n",
    "\n",
    "def compute_cost(x, y, w, b):\n",
    "    cost = 0\n",
    "\n",
    "    m = len(x)\n",
    "    \n",
    "    for i in range(m):\n",
    "        f_wb = w*x[i] + b\n",
    "        dif = (y[i] - f_wb)**2\n",
    "        cost += dif/(2*m)\n",
    "\n",
    "    return cost\n",
    "\n",
    "\n",
    "compute_cost(x_train, y_train, 100, 100)\n"
   ]
  },
  {
   "cell_type": "code",
   "execution_count": 4,
   "id": "d38b0b78",
   "metadata": {},
   "outputs": [
    {
     "data": {
      "text/plain": [
       "12500.0"
      ]
     },
     "execution_count": 4,
     "metadata": {},
     "output_type": "execute_result"
    }
   ],
   "source": [
    "def compute_cost(x, y, w, b):\n",
    "    m = len(x)\n",
    "    total_cost = 0\n",
    "\n",
    "    for i in range(m):\n",
    "        y_wb = w * x[i] + b\n",
    "        cost = (y[i] - y_wb)**2\n",
    "        total_cost += cost / (2 * m)\n",
    "\n",
    "    return total_cost\n",
    "\n",
    "compute_cost(x_train, y_train, 100, 100)"
   ]
  },
  {
   "cell_type": "code",
   "execution_count": 7,
   "id": "5d4ef3c4",
   "metadata": {},
   "outputs": [],
   "source": [
    "def compute_gradient(w, b, x, y):\n",
    "    m = len(x)\n",
    "    dj_dw = 0\n",
    "    dj_db = 0\n",
    "\n",
    "    for i in range(m):\n",
    "        f_wb = w * x[i] + b\n",
    "\n",
    "        dj_dw_i = ((f_wb - y[i]) * x[i])\n",
    "        dj_db_i = (f_wb - y[i])\n",
    "\n",
    "        dj_dw += dj_dw_i / m\n",
    "        dj_db += dj_db_i / m\n",
    "    \n",
    "    return dj_dw, dj_db\n"
   ]
  },
  {
   "cell_type": "markdown",
   "id": "42fb2117",
   "metadata": {},
   "source": []
  }
 ],
 "metadata": {
  "kernelspec": {
   "display_name": "base",
   "language": "python",
   "name": "python3"
  },
  "language_info": {
   "codemirror_mode": {
    "name": "ipython",
    "version": 3
   },
   "file_extension": ".py",
   "mimetype": "text/x-python",
   "name": "python",
   "nbconvert_exporter": "python",
   "pygments_lexer": "ipython3",
   "version": "3.12.4"
  }
 },
 "nbformat": 4,
 "nbformat_minor": 5
}
